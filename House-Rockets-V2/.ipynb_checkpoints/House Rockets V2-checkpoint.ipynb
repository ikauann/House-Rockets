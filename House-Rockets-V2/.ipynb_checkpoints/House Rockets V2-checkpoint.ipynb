{
 "cells": [
  {
   "cell_type": "markdown",
   "id": "70ec6ca6",
   "metadata": {},
   "source": [
    "**Desafios**\n",
    "\n",
    "- Qual a data do imovel mais antigo do dateset ?\n",
    "\n",
    "- Quantos imoveis possuem o número máximo de andares ?\n",
    "\n",
    "- Criar uma classfificação para o imóveis, separando-os em baixo e alto padrão, de acordo com o preço.\n",
    "\n",
    "    - Acima de 540k > alto padrão\n",
    "\n",
    "    - Abaxio de 540k > baixo padrão\n",
    "\n",
    "- Relatorio ordenado pelo preço e contento as seguintes informações:\n",
    "\n",
    "    -  id,\n",
    "    -  data que o imovel ficou disponivel para compra,\n",
    "    -  numero de quartos,\n",
    "    -  tamanho total do terreno,\n",
    "    -  preço,\n",
    "    -  e a classficação do imovel\n",
    "    \n",
    "- mapa indicando onde esta localizado o terreno"
   ]
  },
  {
   "cell_type": "markdown",
   "id": "7e336e00",
   "metadata": {},
   "source": [
    "**planejamento:**\n",
    "\n",
    "- Qual a data do imovel mais antigo do dateset ?\n",
    "    - r: ordenar a data do maior para o menor\n",
    "\n",
    "- Quantos imoveis possuem o número máximo de andares ?\n",
    "    - r: ordenar a coluna andares do maior para o menor e contar\n",
    "\n",
    "- Criar uma classfificação para o imóveis, separando-os em baixo e alto padrão, de acordo com o preço.\n",
    "    - r: usar uma query para perguntar se é maior de 540k ou menor\n",
    "   \n",
    "\n",
    "- Relatorio ordenado pelo preço e contento as seguintes informações:\n",
    "\n",
    "     - id, data que o imovel ficou disponivel para compra, numero de quartos, tamanho total do terreno, preço e a classficação do imovel\n",
    "     \n",
    "     - r: selecionar as colunas e ordenar pelo preço\n",
    "\n",
    "- mapa indicando onde esta localizado o terreno\n",
    "    - r: encontrar o lont e a lat e usar uma biblioteca do google maps"
   ]
  },
  {
   "cell_type": "markdown",
   "id": "36cbc6fe",
   "metadata": {
    "heading_collapsed": true
   },
   "source": [
    "# Imports"
   ]
  },
  {
   "cell_type": "code",
   "execution_count": 42,
   "id": "8e6dc494",
   "metadata": {
    "ExecuteTime": {
     "end_time": "2022-07-12T17:56:05.979852Z",
     "start_time": "2022-07-12T17:56:05.975063Z"
    },
    "hidden": true
   },
   "outputs": [],
   "source": [
    "import pandas as pd\n",
    "import folium"
   ]
  },
  {
   "cell_type": "markdown",
   "id": "82e38383",
   "metadata": {
    "heading_collapsed": true,
    "hidden": true
   },
   "source": [
    "## Loading Data"
   ]
  },
  {
   "cell_type": "code",
   "execution_count": 18,
   "id": "e7962c5c",
   "metadata": {
    "ExecuteTime": {
     "end_time": "2022-07-12T17:51:51.332923Z",
     "start_time": "2022-07-12T17:51:51.276329Z"
    },
    "hidden": true
   },
   "outputs": [],
   "source": [
    "df = pd.read_csv('kc_house_data.csv')"
   ]
  },
  {
   "cell_type": "markdown",
   "id": "951bb0fc",
   "metadata": {
    "heading_collapsed": true
   },
   "source": [
    "# Qual a data do imovel mais antigo do dateset ?"
   ]
  },
  {
   "cell_type": "code",
   "execution_count": 19,
   "id": "6b6686fd",
   "metadata": {
    "ExecuteTime": {
     "end_time": "2022-07-12T17:51:57.921816Z",
     "start_time": "2022-07-12T17:51:57.909881Z"
    },
    "hidden": true
   },
   "outputs": [
    {
     "name": "stdout",
     "output_type": "stream",
     "text": [
      "2014-05-02 é o imovel mais antigo\n"
     ]
    }
   ],
   "source": [
    "df.date = pd.to_datetime(df.date)\n",
    "print(f'{df.date.min().date()} é o imovel mais antigo')"
   ]
  },
  {
   "cell_type": "markdown",
   "id": "7963a2ba",
   "metadata": {
    "heading_collapsed": true
   },
   "source": [
    "# Quantos imoveis possuem o número máximo de andares ?"
   ]
  },
  {
   "cell_type": "code",
   "execution_count": 20,
   "id": "9ac1bda5",
   "metadata": {
    "ExecuteTime": {
     "end_time": "2022-07-12T17:51:58.490322Z",
     "start_time": "2022-07-12T17:51:58.483458Z"
    },
    "hidden": true
   },
   "outputs": [
    {
     "name": "stdout",
     "output_type": "stream",
     "text": [
      "O maior andar é de 3.5 e tem 8 no dataset\n"
     ]
    }
   ],
   "source": [
    "df.floors.value_counts()\n",
    "print('O maior andar é de 3.5 e tem 8 no dataset')"
   ]
  },
  {
   "cell_type": "markdown",
   "id": "4de58cf4",
   "metadata": {
    "heading_collapsed": true
   },
   "source": [
    "# Criar uma classfificação para o imóveis, separando-os em baixo e alto padrão, de acordo com o preço."
   ]
  },
  {
   "cell_type": "code",
   "execution_count": 23,
   "id": "68702fba",
   "metadata": {
    "ExecuteTime": {
     "end_time": "2022-07-12T17:52:21.234541Z",
     "start_time": "2022-07-12T17:52:21.221790Z"
    },
    "hidden": true
   },
   "outputs": [],
   "source": [
    "df['level'] = df['price'].apply(lambda x: 'alto_nivel' if x >= 540000 else 'baixo_preco')"
   ]
  },
  {
   "cell_type": "markdown",
   "id": "5969a644",
   "metadata": {
    "heading_collapsed": true
   },
   "source": [
    "# Relatorio de id, data que o imovel ficou disponivel para compra, numero de quartos, tamanho total do terreno, preço e a classficação do imovel"
   ]
  },
  {
   "cell_type": "code",
   "execution_count": 35,
   "id": "e4bec953",
   "metadata": {
    "ExecuteTime": {
     "end_time": "2022-07-12T17:54:52.225490Z",
     "start_time": "2022-07-12T17:54:52.215993Z"
    },
    "hidden": true
   },
   "outputs": [],
   "source": [
    "relatorio = df[['id','date', 'price', 'bedrooms', 'sqft_lot', 'level', 'lat', 'long']]"
   ]
  },
  {
   "cell_type": "markdown",
   "id": "88c45c35",
   "metadata": {
    "heading_collapsed": true
   },
   "source": [
    "# mapa indicando onde esta localizado o terreno"
   ]
  },
  {
   "cell_type": "code",
   "execution_count": 41,
   "id": "8468aaa0",
   "metadata": {
    "ExecuteTime": {
     "end_time": "2022-07-12T17:55:36.918068Z",
     "start_time": "2022-07-12T17:55:36.882831Z"
    },
    "hidden": true
   },
   "outputs": [
    {
     "data": {
      "text/html": [
       "<div style=\"width:100%;\"><div style=\"position:relative;width:100%;height:0;padding-bottom:60%;\"><span style=\"color:#565656\">Make this Notebook Trusted to load map: File -> Trust Notebook</span><iframe srcdoc=\"&lt;!DOCTYPE html&gt;\n",
       "&lt;head&gt;    \n",
       "    &lt;meta http-equiv=&quot;content-type&quot; content=&quot;text/html; charset=UTF-8&quot; /&gt;\n",
       "    \n",
       "        &lt;script&gt;\n",
       "            L_NO_TOUCH = false;\n",
       "            L_DISABLE_3D = false;\n",
       "        &lt;/script&gt;\n",
       "    \n",
       "    &lt;style&gt;html, body {width: 100%;height: 100%;margin: 0;padding: 0;}&lt;/style&gt;\n",
       "    &lt;style&gt;#map {position:absolute;top:0;bottom:0;right:0;left:0;}&lt;/style&gt;\n",
       "    &lt;script src=&quot;https://cdn.jsdelivr.net/npm/leaflet@1.6.0/dist/leaflet.js&quot;&gt;&lt;/script&gt;\n",
       "    &lt;script src=&quot;https://code.jquery.com/jquery-1.12.4.min.js&quot;&gt;&lt;/script&gt;\n",
       "    &lt;script src=&quot;https://maxcdn.bootstrapcdn.com/bootstrap/3.2.0/js/bootstrap.min.js&quot;&gt;&lt;/script&gt;\n",
       "    &lt;script src=&quot;https://cdnjs.cloudflare.com/ajax/libs/Leaflet.awesome-markers/2.0.2/leaflet.awesome-markers.js&quot;&gt;&lt;/script&gt;\n",
       "    &lt;link rel=&quot;stylesheet&quot; href=&quot;https://cdn.jsdelivr.net/npm/leaflet@1.6.0/dist/leaflet.css&quot;/&gt;\n",
       "    &lt;link rel=&quot;stylesheet&quot; href=&quot;https://maxcdn.bootstrapcdn.com/bootstrap/3.2.0/css/bootstrap.min.css&quot;/&gt;\n",
       "    &lt;link rel=&quot;stylesheet&quot; href=&quot;https://maxcdn.bootstrapcdn.com/bootstrap/3.2.0/css/bootstrap-theme.min.css&quot;/&gt;\n",
       "    &lt;link rel=&quot;stylesheet&quot; href=&quot;https://maxcdn.bootstrapcdn.com/font-awesome/4.6.3/css/font-awesome.min.css&quot;/&gt;\n",
       "    &lt;link rel=&quot;stylesheet&quot; href=&quot;https://cdnjs.cloudflare.com/ajax/libs/Leaflet.awesome-markers/2.0.2/leaflet.awesome-markers.css&quot;/&gt;\n",
       "    &lt;link rel=&quot;stylesheet&quot; href=&quot;https://cdn.jsdelivr.net/gh/python-visualization/folium/folium/templates/leaflet.awesome.rotate.min.css&quot;/&gt;\n",
       "    \n",
       "            &lt;meta name=&quot;viewport&quot; content=&quot;width=device-width,\n",
       "                initial-scale=1.0, maximum-scale=1.0, user-scalable=no&quot; /&gt;\n",
       "            &lt;style&gt;\n",
       "                #map_d6fec6439ef0ca38518dc20c423b6ced {\n",
       "                    position: relative;\n",
       "                    width: 100.0%;\n",
       "                    height: 100.0%;\n",
       "                    left: 0.0%;\n",
       "                    top: 0.0%;\n",
       "                }\n",
       "            &lt;/style&gt;\n",
       "        \n",
       "&lt;/head&gt;\n",
       "&lt;body&gt;    \n",
       "    \n",
       "            &lt;div class=&quot;folium-map&quot; id=&quot;map_d6fec6439ef0ca38518dc20c423b6ced&quot; &gt;&lt;/div&gt;\n",
       "        \n",
       "&lt;/body&gt;\n",
       "&lt;script&gt;    \n",
       "    \n",
       "            var map_d6fec6439ef0ca38518dc20c423b6ced = L.map(\n",
       "                &quot;map_d6fec6439ef0ca38518dc20c423b6ced&quot;,\n",
       "                {\n",
       "                    center: [47.65, -122.214],\n",
       "                    crs: L.CRS.EPSG3857,\n",
       "                    zoom: 125,\n",
       "                    zoomControl: true,\n",
       "                    preferCanvas: false,\n",
       "                }\n",
       "            );\n",
       "\n",
       "            \n",
       "\n",
       "        \n",
       "    \n",
       "            var tile_layer_d88932b1efcd3542d357699dd4d75dac = L.tileLayer(\n",
       "                &quot;https://{s}.tile.openstreetmap.org/{z}/{x}/{y}.png&quot;,\n",
       "                {&quot;attribution&quot;: &quot;Data by \\u0026copy; \\u003ca href=\\&quot;http://openstreetmap.org\\&quot;\\u003eOpenStreetMap\\u003c/a\\u003e, under \\u003ca href=\\&quot;http://www.openstreetmap.org/copyright\\&quot;\\u003eODbL\\u003c/a\\u003e.&quot;, &quot;detectRetina&quot;: false, &quot;maxNativeZoom&quot;: 18, &quot;maxZoom&quot;: 18, &quot;minZoom&quot;: 0, &quot;noWrap&quot;: false, &quot;opacity&quot;: 1, &quot;subdomains&quot;: &quot;abc&quot;, &quot;tms&quot;: false}\n",
       "            ).addTo(map_d6fec6439ef0ca38518dc20c423b6ced);\n",
       "        \n",
       "&lt;/script&gt;\" style=\"position:absolute;width:100%;height:100%;left:0;top:0;border:none !important;\" allowfullscreen webkitallowfullscreen mozallowfullscreen></iframe></div></div>"
      ],
      "text/plain": [
       "<folium.folium.Map at 0x7f343c18b550>"
      ]
     },
     "execution_count": 41,
     "metadata": {},
     "output_type": "execute_result"
    }
   ],
   "source": [
    "relatorio_lat = relatorio.query('price > 5400000').max()['lat']\n",
    "relatorio_long = relatorio.query('price > 5400000').max()['long']\n",
    "\n",
    "lat = relatorio_lat\n",
    "long = relatorio_long\n",
    "\n",
    "maps = folium.Map(location=[lat, long], zoom_start=125)\n",
    "maps.save(\"index.html\")\n",
    "maps"
   ]
  }
 ],
 "metadata": {
  "kernelspec": {
   "display_name": "Python 3 (ipykernel)",
   "language": "python",
   "name": "python3"
  },
  "language_info": {
   "codemirror_mode": {
    "name": "ipython",
    "version": 3
   },
   "file_extension": ".py",
   "mimetype": "text/x-python",
   "name": "python",
   "nbconvert_exporter": "python",
   "pygments_lexer": "ipython3",
   "version": "3.8.10"
  },
  "nbTranslate": {
   "displayLangs": [
    "*"
   ],
   "hotkey": "alt-t",
   "langInMainMenu": true,
   "sourceLang": "en",
   "targetLang": "fr",
   "useGoogleTranslate": true
  },
  "toc": {
   "base_numbering": 1,
   "nav_menu": {},
   "number_sections": true,
   "sideBar": true,
   "skip_h1_title": false,
   "title_cell": "Table of Contents",
   "title_sidebar": "Contents",
   "toc_cell": false,
   "toc_position": {},
   "toc_section_display": true,
   "toc_window_display": false
  }
 },
 "nbformat": 4,
 "nbformat_minor": 5
}
