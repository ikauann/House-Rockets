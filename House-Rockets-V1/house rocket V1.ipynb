{
 "cells": [
  {
   "cell_type": "markdown",
   "id": "b0b09f8b",
   "metadata": {},
   "source": [
    "Quantas casa estao disponiveis para compra ?\n",
    "\n",
    "Quantos atributos as casas possuem ?\n",
    "\n",
    "Quais são os atributos ?\n",
    "\n",
    "Qual é a casa mais cara ?\n",
    "\n",
    "Qual é a casa com maior numero de quartos ?"
   ]
  },
  {
   "cell_type": "markdown",
   "id": "8167696f",
   "metadata": {
    "heading_collapsed": true
   },
   "source": [
    "# Import"
   ]
  },
  {
   "cell_type": "code",
   "execution_count": 4,
   "id": "c18d6f39",
   "metadata": {
    "ExecuteTime": {
     "end_time": "2022-07-12T17:40:04.958913Z",
     "start_time": "2022-07-12T17:40:04.475560Z"
    },
    "hidden": true
   },
   "outputs": [],
   "source": [
    "import pandas as pd"
   ]
  },
  {
   "cell_type": "markdown",
   "id": "b3fecb0b",
   "metadata": {
    "heading_collapsed": true,
    "hidden": true
   },
   "source": [
    "## Loading Data"
   ]
  },
  {
   "cell_type": "code",
   "execution_count": 6,
   "id": "9b1be673",
   "metadata": {
    "ExecuteTime": {
     "end_time": "2022-07-12T17:40:08.166120Z",
     "start_time": "2022-07-12T17:40:08.109749Z"
    },
    "hidden": true
   },
   "outputs": [],
   "source": [
    "df = pd.read_csv('kc_house_data.csv')"
   ]
  },
  {
   "cell_type": "markdown",
   "id": "bd2fb5a6",
   "metadata": {
    "heading_collapsed": true
   },
   "source": [
    "# Data Analysis"
   ]
  },
  {
   "cell_type": "markdown",
   "id": "72488600",
   "metadata": {
    "heading_collapsed": true,
    "hidden": true
   },
   "source": [
    "## Quantas casa estao disponiveis para compra ?"
   ]
  },
  {
   "cell_type": "code",
   "execution_count": 7,
   "id": "67c0b6b8",
   "metadata": {
    "ExecuteTime": {
     "end_time": "2022-07-12T17:40:11.913891Z",
     "start_time": "2022-07-12T17:40:11.909131Z"
    },
    "hidden": true
   },
   "outputs": [],
   "source": [
    "resposta_1 = f'{len(df[\"id\"])} casa disponiveis.'"
   ]
  },
  {
   "cell_type": "markdown",
   "id": "7a564725",
   "metadata": {
    "heading_collapsed": true,
    "hidden": true
   },
   "source": [
    "## Quantos atributos as casas possuem ?"
   ]
  },
  {
   "cell_type": "code",
   "execution_count": 8,
   "id": "893b5092",
   "metadata": {
    "ExecuteTime": {
     "end_time": "2022-07-12T17:40:12.873324Z",
     "start_time": "2022-07-12T17:40:12.868025Z"
    },
    "hidden": true
   },
   "outputs": [],
   "source": [
    "len(df.columns)\n",
    "\n",
    "df['bedrooms']#quartos\n",
    "df['bathrooms']#banheiro\n",
    "df['waterfront']#vista pra o mar\n",
    "df['sqft_living']#m2 da casa\n",
    "\n",
    "resposta_2 = 'bedrooms, bathrooms, waterfront, sqft_living'"
   ]
  },
  {
   "cell_type": "markdown",
   "id": "4e244db6",
   "metadata": {
    "heading_collapsed": true,
    "hidden": true
   },
   "source": [
    "## Quais são os atributos ?"
   ]
  },
  {
   "cell_type": "code",
   "execution_count": 11,
   "id": "ec6f24d7",
   "metadata": {
    "ExecuteTime": {
     "end_time": "2022-07-12T17:40:42.488782Z",
     "start_time": "2022-07-12T17:40:42.483212Z"
    },
    "hidden": true
   },
   "outputs": [],
   "source": [
    "df.columns\n",
    "\n",
    "resposta_3 = ['id', 'date', 'price', 'bedrooms', 'bathrooms', 'sqft_living',\n",
    "       'sqft_lot', 'floors', 'waterfront', 'view', 'condition', 'grade',\n",
    "       'sqft_above', 'sqft_basement', 'yr_built', 'yr_renovated', 'zipcode',\n",
    "       'lat', 'long', 'sqft_living15', 'sqft_lot15']"
   ]
  },
  {
   "cell_type": "markdown",
   "id": "168b10ca",
   "metadata": {
    "heading_collapsed": true,
    "hidden": true
   },
   "source": [
    "## Qual é a casa mais cara ?"
   ]
  },
  {
   "cell_type": "code",
   "execution_count": 12,
   "id": "708d8143",
   "metadata": {
    "ExecuteTime": {
     "end_time": "2022-07-12T17:40:51.454314Z",
     "start_time": "2022-07-12T17:40:51.444853Z"
    },
    "hidden": true
   },
   "outputs": [],
   "source": [
    "df.query(f\"price == {df['price'].max()}\")\n",
    "resposta_4 = f\"a casa mais cara é de {df['price'].max()}\""
   ]
  },
  {
   "cell_type": "markdown",
   "id": "5932c300",
   "metadata": {
    "heading_collapsed": true,
    "hidden": true
   },
   "source": [
    "## Qual é a casa com maior numero de quartos ?"
   ]
  },
  {
   "cell_type": "code",
   "execution_count": 13,
   "id": "3d74a907",
   "metadata": {
    "ExecuteTime": {
     "end_time": "2022-07-12T17:41:02.929093Z",
     "start_time": "2022-07-12T17:41:02.918923Z"
    },
    "hidden": true
   },
   "outputs": [],
   "source": [
    "df.query(f\"bedrooms == {df['bedrooms'].max()}\")\n",
    "resposta_5 = f'a casa com mais quarto tem {df[\"bedrooms\"].max()} quartos.'"
   ]
  },
  {
   "cell_type": "markdown",
   "id": "b4249e35",
   "metadata": {},
   "source": [
    "#  Answer"
   ]
  },
  {
   "cell_type": "code",
   "execution_count": 20,
   "id": "ee8c4db3",
   "metadata": {
    "ExecuteTime": {
     "end_time": "2022-07-12T17:43:55.687505Z",
     "start_time": "2022-07-12T17:43:55.680409Z"
    },
    "hide_input": true
   },
   "outputs": [
    {
     "name": "stdout",
     "output_type": "stream",
     "text": [
      "Quantas casa estao disponiveis para compra ? \n",
      "21613 casa disponiveis.\n",
      "\n",
      "Quantos atributos as casas possuem ? \n",
      "bedrooms, bathrooms, waterfront, sqft_living\n",
      "\n",
      "Quais são os atributos? \n",
      "['id', 'date', 'price', 'bedrooms', 'bathrooms', 'sqft_living', 'sqft_lot', 'floors', 'waterfront', 'view', 'condition', 'grade', 'sqft_above', 'sqft_basement', 'yr_built', 'yr_renovated', 'zipcode', 'lat', 'long', 'sqft_living15', 'sqft_lot15']\n",
      "\n",
      "Qual é a casa mais cara? \n",
      "a casa mais cara é de 7700000.0\n",
      "\n",
      "Qual é a casa com maior numero de quartos ? \n",
      "a casa com mais quarto tem 33 quartos.\n",
      "\n"
     ]
    }
   ],
   "source": [
    "print(f'Quantas casa estao disponiveis para compra ? \\n{resposta_1}\\n')\n",
    "\n",
    "print(f'Quantos atributos as casas possuem ? \\n{resposta_2}\\n')\n",
    "\n",
    "print(f'Quais são os atributos? \\n{resposta_3}\\n')\n",
    "\n",
    "print(f'Qual é a casa mais cara? \\n{resposta_4}\\n')\n",
    "\n",
    "print(f'Qual é a casa com maior numero de quartos ? \\n{resposta_5}\\n')"
   ]
  }
 ],
 "metadata": {
  "kernelspec": {
   "display_name": "Python 3 (ipykernel)",
   "language": "python",
   "name": "python3"
  },
  "language_info": {
   "codemirror_mode": {
    "name": "ipython",
    "version": 3
   },
   "file_extension": ".py",
   "mimetype": "text/x-python",
   "name": "python",
   "nbconvert_exporter": "python",
   "pygments_lexer": "ipython3",
   "version": "3.8.10"
  },
  "nbTranslate": {
   "displayLangs": [
    "*"
   ],
   "hotkey": "alt-t",
   "langInMainMenu": true,
   "sourceLang": "en",
   "targetLang": "fr",
   "useGoogleTranslate": true
  },
  "toc": {
   "base_numbering": 1,
   "nav_menu": {},
   "number_sections": true,
   "sideBar": true,
   "skip_h1_title": false,
   "title_cell": "Table of Contents",
   "title_sidebar": "Contents",
   "toc_cell": false,
   "toc_position": {},
   "toc_section_display": true,
   "toc_window_display": false
  }
 },
 "nbformat": 4,
 "nbformat_minor": 5
}
